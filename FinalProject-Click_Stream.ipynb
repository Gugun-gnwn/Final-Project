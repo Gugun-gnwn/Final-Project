{
 "cells": [
  {
   "cell_type": "code",
   "execution_count": 15,
   "id": "39ad21c7",
   "metadata": {},
   "outputs": [],
   "source": [
    "import pandas as pd\n",
    "import numpy as np\n",
    "import matplotlib.pyplot as plt\n",
    "import seaborn as sns\n",
    "df = pd.read_csv('click_stream.csv')"
   ]
  },
  {
   "cell_type": "markdown",
   "id": "f5bbd5ca",
   "metadata": {},
   "source": [
    "# CLEANING DATA "
   ]
  },
  {
   "cell_type": "markdown",
   "id": "0e616671",
   "metadata": {},
   "source": [
    "### DATASET CLICK STREAM"
   ]
  },
  {
   "cell_type": "code",
   "execution_count": 16,
   "id": "bd70c422",
   "metadata": {},
   "outputs": [
    {
     "name": "stdout",
     "output_type": "stream",
     "text": [
      "<class 'pandas.core.frame.DataFrame'>\n",
      "RangeIndex: 12833602 entries, 0 to 12833601\n",
      "Data columns (total 6 columns):\n",
      " #   Column          Dtype \n",
      "---  ------          ----- \n",
      " 0   session_id      object\n",
      " 1   event_name      object\n",
      " 2   event_time      object\n",
      " 3   event_id        object\n",
      " 4   traffic_source  object\n",
      " 5   event_metadata  object\n",
      "dtypes: object(6)\n",
      "memory usage: 587.5+ MB\n"
     ]
    }
   ],
   "source": [
    "df.info()"
   ]
  },
  {
   "cell_type": "code",
   "execution_count": 10,
   "id": "933ae609",
   "metadata": {},
   "outputs": [
    {
     "data": {
      "text/html": [
       "<div>\n",
       "<style scoped>\n",
       "    .dataframe tbody tr th:only-of-type {\n",
       "        vertical-align: middle;\n",
       "    }\n",
       "\n",
       "    .dataframe tbody tr th {\n",
       "        vertical-align: top;\n",
       "    }\n",
       "\n",
       "    .dataframe thead th {\n",
       "        text-align: right;\n",
       "    }\n",
       "</style>\n",
       "<table border=\"1\" class=\"dataframe\">\n",
       "  <thead>\n",
       "    <tr style=\"text-align: right;\">\n",
       "      <th></th>\n",
       "      <th>session_id</th>\n",
       "      <th>event_name</th>\n",
       "      <th>event_time</th>\n",
       "      <th>event_id</th>\n",
       "      <th>traffic_source</th>\n",
       "      <th>event_metadata</th>\n",
       "    </tr>\n",
       "  </thead>\n",
       "  <tbody>\n",
       "    <tr>\n",
       "      <th>0</th>\n",
       "      <td>fb0abf9e-fd1a-44dd-b5c0-2834d5a4b81c</td>\n",
       "      <td>HOMEPAGE</td>\n",
       "      <td>2019-09-06T15:54:32.821085Z</td>\n",
       "      <td>9c4388c4-c95b-4678-b5ca-e9cbc0734109</td>\n",
       "      <td>MOBILE</td>\n",
       "      <td>NaN</td>\n",
       "    </tr>\n",
       "    <tr>\n",
       "      <th>1</th>\n",
       "      <td>fb0abf9e-fd1a-44dd-b5c0-2834d5a4b81c</td>\n",
       "      <td>SCROLL</td>\n",
       "      <td>2019-09-06T16:03:57.821085Z</td>\n",
       "      <td>4690e1f5-3f99-42d3-84a5-22c4c4d8500a</td>\n",
       "      <td>MOBILE</td>\n",
       "      <td>NaN</td>\n",
       "    </tr>\n",
       "    <tr>\n",
       "      <th>2</th>\n",
       "      <td>7d440441-e67a-4d36-b324-80ffd636d166</td>\n",
       "      <td>HOMEPAGE</td>\n",
       "      <td>2019-09-01T12:05:10.322763Z</td>\n",
       "      <td>88aeaeb5-ec98-4859-852c-8abb483faf31</td>\n",
       "      <td>MOBILE</td>\n",
       "      <td>NaN</td>\n",
       "    </tr>\n",
       "    <tr>\n",
       "      <th>3</th>\n",
       "      <td>7d440441-e67a-4d36-b324-80ffd636d166</td>\n",
       "      <td>ADD_TO_CART</td>\n",
       "      <td>2019-09-01T12:06:33.322763Z</td>\n",
       "      <td>934e306e-ecc6-472f-9ccb-12c8536910a2</td>\n",
       "      <td>MOBILE</td>\n",
       "      <td>{'product_id': 15315, 'quantity': 4, 'item_pri...</td>\n",
       "    </tr>\n",
       "    <tr>\n",
       "      <th>4</th>\n",
       "      <td>7d440441-e67a-4d36-b324-80ffd636d166</td>\n",
       "      <td>BOOKING</td>\n",
       "      <td>2019-09-01T12:15:29.425431Z</td>\n",
       "      <td>9f4767a1-40fa-4c9c-9524-dfad18634d56</td>\n",
       "      <td>MOBILE</td>\n",
       "      <td>{'payment_status': 'Success'}</td>\n",
       "    </tr>\n",
       "  </tbody>\n",
       "</table>\n",
       "</div>"
      ],
      "text/plain": [
       "                             session_id   event_name  \\\n",
       "0  fb0abf9e-fd1a-44dd-b5c0-2834d5a4b81c     HOMEPAGE   \n",
       "1  fb0abf9e-fd1a-44dd-b5c0-2834d5a4b81c       SCROLL   \n",
       "2  7d440441-e67a-4d36-b324-80ffd636d166     HOMEPAGE   \n",
       "3  7d440441-e67a-4d36-b324-80ffd636d166  ADD_TO_CART   \n",
       "4  7d440441-e67a-4d36-b324-80ffd636d166      BOOKING   \n",
       "\n",
       "                    event_time                              event_id  \\\n",
       "0  2019-09-06T15:54:32.821085Z  9c4388c4-c95b-4678-b5ca-e9cbc0734109   \n",
       "1  2019-09-06T16:03:57.821085Z  4690e1f5-3f99-42d3-84a5-22c4c4d8500a   \n",
       "2  2019-09-01T12:05:10.322763Z  88aeaeb5-ec98-4859-852c-8abb483faf31   \n",
       "3  2019-09-01T12:06:33.322763Z  934e306e-ecc6-472f-9ccb-12c8536910a2   \n",
       "4  2019-09-01T12:15:29.425431Z  9f4767a1-40fa-4c9c-9524-dfad18634d56   \n",
       "\n",
       "  traffic_source                                     event_metadata  \n",
       "0         MOBILE                                                NaN  \n",
       "1         MOBILE                                                NaN  \n",
       "2         MOBILE                                                NaN  \n",
       "3         MOBILE  {'product_id': 15315, 'quantity': 4, 'item_pri...  \n",
       "4         MOBILE                      {'payment_status': 'Success'}  "
      ]
     },
     "execution_count": 10,
     "metadata": {},
     "output_type": "execute_result"
    }
   ],
   "source": [
    "df.head()"
   ]
  },
  {
   "cell_type": "code",
   "execution_count": 18,
   "id": "4b29c0b5",
   "metadata": {},
   "outputs": [
    {
     "data": {
      "text/plain": [
       "(12833602, 6)"
      ]
     },
     "execution_count": 18,
     "metadata": {},
     "output_type": "execute_result"
    }
   ],
   "source": [
    "df.shape"
   ]
  },
  {
   "cell_type": "code",
   "execution_count": 19,
   "id": "65cd5228",
   "metadata": {},
   "outputs": [
    {
     "data": {
      "text/html": [
       "<div>\n",
       "<style scoped>\n",
       "    .dataframe tbody tr th:only-of-type {\n",
       "        vertical-align: middle;\n",
       "    }\n",
       "\n",
       "    .dataframe tbody tr th {\n",
       "        vertical-align: top;\n",
       "    }\n",
       "\n",
       "    .dataframe thead th {\n",
       "        text-align: right;\n",
       "    }\n",
       "</style>\n",
       "<table border=\"1\" class=\"dataframe\">\n",
       "  <thead>\n",
       "    <tr style=\"text-align: right;\">\n",
       "      <th></th>\n",
       "      <th>session_id</th>\n",
       "      <th>event_name</th>\n",
       "      <th>event_time</th>\n",
       "      <th>event_id</th>\n",
       "      <th>traffic_source</th>\n",
       "      <th>event_metadata</th>\n",
       "    </tr>\n",
       "  </thead>\n",
       "  <tbody>\n",
       "    <tr>\n",
       "      <th>0</th>\n",
       "      <td>fb0abf9e-fd1a-44dd-b5c0-2834d5a4b81c</td>\n",
       "      <td>HOMEPAGE</td>\n",
       "      <td>2019-09-06T15:54:32.821085Z</td>\n",
       "      <td>9c4388c4-c95b-4678-b5ca-e9cbc0734109</td>\n",
       "      <td>MOBILE</td>\n",
       "      <td>NaN</td>\n",
       "    </tr>\n",
       "    <tr>\n",
       "      <th>1</th>\n",
       "      <td>fb0abf9e-fd1a-44dd-b5c0-2834d5a4b81c</td>\n",
       "      <td>SCROLL</td>\n",
       "      <td>2019-09-06T16:03:57.821085Z</td>\n",
       "      <td>4690e1f5-3f99-42d3-84a5-22c4c4d8500a</td>\n",
       "      <td>MOBILE</td>\n",
       "      <td>NaN</td>\n",
       "    </tr>\n",
       "    <tr>\n",
       "      <th>2</th>\n",
       "      <td>7d440441-e67a-4d36-b324-80ffd636d166</td>\n",
       "      <td>HOMEPAGE</td>\n",
       "      <td>2019-09-01T12:05:10.322763Z</td>\n",
       "      <td>88aeaeb5-ec98-4859-852c-8abb483faf31</td>\n",
       "      <td>MOBILE</td>\n",
       "      <td>NaN</td>\n",
       "    </tr>\n",
       "    <tr>\n",
       "      <th>3</th>\n",
       "      <td>7d440441-e67a-4d36-b324-80ffd636d166</td>\n",
       "      <td>ADD_TO_CART</td>\n",
       "      <td>2019-09-01T12:06:33.322763Z</td>\n",
       "      <td>934e306e-ecc6-472f-9ccb-12c8536910a2</td>\n",
       "      <td>MOBILE</td>\n",
       "      <td>{'product_id': 15315, 'quantity': 4, 'item_pri...</td>\n",
       "    </tr>\n",
       "    <tr>\n",
       "      <th>4</th>\n",
       "      <td>7d440441-e67a-4d36-b324-80ffd636d166</td>\n",
       "      <td>BOOKING</td>\n",
       "      <td>2019-09-01T12:15:29.425431Z</td>\n",
       "      <td>9f4767a1-40fa-4c9c-9524-dfad18634d56</td>\n",
       "      <td>MOBILE</td>\n",
       "      <td>{'payment_status': 'Success'}</td>\n",
       "    </tr>\n",
       "  </tbody>\n",
       "</table>\n",
       "</div>"
      ],
      "text/plain": [
       "                             session_id   event_name  \\\n",
       "0  fb0abf9e-fd1a-44dd-b5c0-2834d5a4b81c     HOMEPAGE   \n",
       "1  fb0abf9e-fd1a-44dd-b5c0-2834d5a4b81c       SCROLL   \n",
       "2  7d440441-e67a-4d36-b324-80ffd636d166     HOMEPAGE   \n",
       "3  7d440441-e67a-4d36-b324-80ffd636d166  ADD_TO_CART   \n",
       "4  7d440441-e67a-4d36-b324-80ffd636d166      BOOKING   \n",
       "\n",
       "                    event_time                              event_id  \\\n",
       "0  2019-09-06T15:54:32.821085Z  9c4388c4-c95b-4678-b5ca-e9cbc0734109   \n",
       "1  2019-09-06T16:03:57.821085Z  4690e1f5-3f99-42d3-84a5-22c4c4d8500a   \n",
       "2  2019-09-01T12:05:10.322763Z  88aeaeb5-ec98-4859-852c-8abb483faf31   \n",
       "3  2019-09-01T12:06:33.322763Z  934e306e-ecc6-472f-9ccb-12c8536910a2   \n",
       "4  2019-09-01T12:15:29.425431Z  9f4767a1-40fa-4c9c-9524-dfad18634d56   \n",
       "\n",
       "  traffic_source                                     event_metadata  \n",
       "0         MOBILE                                                NaN  \n",
       "1         MOBILE                                                NaN  \n",
       "2         MOBILE                                                NaN  \n",
       "3         MOBILE  {'product_id': 15315, 'quantity': 4, 'item_pri...  \n",
       "4         MOBILE                      {'payment_status': 'Success'}  "
      ]
     },
     "execution_count": 19,
     "metadata": {},
     "output_type": "execute_result"
    }
   ],
   "source": [
    "df.head()"
   ]
  },
  {
   "cell_type": "code",
   "execution_count": 22,
   "id": "0b500714",
   "metadata": {},
   "outputs": [
    {
     "data": {
      "text/html": [
       "<div>\n",
       "<style scoped>\n",
       "    .dataframe tbody tr th:only-of-type {\n",
       "        vertical-align: middle;\n",
       "    }\n",
       "\n",
       "    .dataframe tbody tr th {\n",
       "        vertical-align: top;\n",
       "    }\n",
       "\n",
       "    .dataframe thead th {\n",
       "        text-align: right;\n",
       "    }\n",
       "</style>\n",
       "<table border=\"1\" class=\"dataframe\">\n",
       "  <thead>\n",
       "    <tr style=\"text-align: right;\">\n",
       "      <th></th>\n",
       "      <th>session_id</th>\n",
       "      <th>event_name</th>\n",
       "      <th>event_time</th>\n",
       "      <th>event_id</th>\n",
       "      <th>traffic_source</th>\n",
       "      <th>event_metadata</th>\n",
       "    </tr>\n",
       "  </thead>\n",
       "  <tbody>\n",
       "    <tr>\n",
       "      <th>3000496</th>\n",
       "      <td>7835aed5-63db-4b80-bdf3-64026c8bb558</td>\n",
       "      <td>SEARCH</td>\n",
       "      <td>2019-01-27T20:29:18.635006Z</td>\n",
       "      <td>af6e4792-77a2-4f15-abb4-f36ea7f81b83</td>\n",
       "      <td>MOBILE</td>\n",
       "      <td>{'search_keywords': 'Dress Pesta'}</td>\n",
       "    </tr>\n",
       "    <tr>\n",
       "      <th>10363029</th>\n",
       "      <td>1505c345-023f-47de-8c39-5b84bc45f119</td>\n",
       "      <td>CLICK</td>\n",
       "      <td>2021-09-22T15:07:23.729600Z</td>\n",
       "      <td>c0ccc7ec-2f02-40c0-b8b0-4742a62949d2</td>\n",
       "      <td>MOBILE</td>\n",
       "      <td>NaN</td>\n",
       "    </tr>\n",
       "    <tr>\n",
       "      <th>10306011</th>\n",
       "      <td>732f697f-1f1a-4b3e-8f04-1e55b0be8311</td>\n",
       "      <td>ADD_TO_CART</td>\n",
       "      <td>2021-12-18T19:11:25.970149Z</td>\n",
       "      <td>f63ce54c-1f2b-49e0-8317-51992b0510a5</td>\n",
       "      <td>MOBILE</td>\n",
       "      <td>{'product_id': 22101, 'quantity': 1, 'item_pri...</td>\n",
       "    </tr>\n",
       "    <tr>\n",
       "      <th>10796930</th>\n",
       "      <td>d57aae0b-839c-4f56-9674-ba94d750b6b4</td>\n",
       "      <td>HOMEPAGE</td>\n",
       "      <td>2017-07-06T08:25:30.280649Z</td>\n",
       "      <td>89572990-150c-4c53-b5de-bb0990288ea1</td>\n",
       "      <td>MOBILE</td>\n",
       "      <td>NaN</td>\n",
       "    </tr>\n",
       "    <tr>\n",
       "      <th>3997765</th>\n",
       "      <td>75650777-b7ec-4596-93ab-37ae18f8be15</td>\n",
       "      <td>ITEM_DETAIL</td>\n",
       "      <td>2019-10-19T01:17:30.579662Z</td>\n",
       "      <td>00ad8c2f-50ca-4dfc-ad9d-c010c488c0d9</td>\n",
       "      <td>MOBILE</td>\n",
       "      <td>NaN</td>\n",
       "    </tr>\n",
       "    <tr>\n",
       "      <th>6024011</th>\n",
       "      <td>259eba80-04d5-4052-80de-d752a848d1f3</td>\n",
       "      <td>SEARCH</td>\n",
       "      <td>2020-01-31T12:22:59.287053Z</td>\n",
       "      <td>407c005a-1ecb-4456-96c4-91fc446e7c0b</td>\n",
       "      <td>WEB</td>\n",
       "      <td>{'search_keywords': 'Dress Kondangan'}</td>\n",
       "    </tr>\n",
       "    <tr>\n",
       "      <th>7901771</th>\n",
       "      <td>acf076e2-1341-4872-8f53-9106fe86cdd9</td>\n",
       "      <td>PROMO_PAGE</td>\n",
       "      <td>2020-01-29T20:25:00.387781Z</td>\n",
       "      <td>614b4613-74b1-4927-b389-abee2aba116d</td>\n",
       "      <td>MOBILE</td>\n",
       "      <td>NaN</td>\n",
       "    </tr>\n",
       "    <tr>\n",
       "      <th>2724431</th>\n",
       "      <td>0f5b6ee6-a33a-4e5d-9e09-df6e52c7252e</td>\n",
       "      <td>ADD_PROMO</td>\n",
       "      <td>2022-01-13T08:55:52.452764Z</td>\n",
       "      <td>48b7fdfd-8f8f-4882-a8f2-7462e6f43204</td>\n",
       "      <td>MOBILE</td>\n",
       "      <td>{'promo_code': 'BUYMORE', 'promo_amount': 6276}</td>\n",
       "    </tr>\n",
       "    <tr>\n",
       "      <th>2666796</th>\n",
       "      <td>5e8e1238-e8a9-4a88-8c27-fee16857aa48</td>\n",
       "      <td>SEARCH</td>\n",
       "      <td>2020-03-08T04:18:14.006562Z</td>\n",
       "      <td>62e3feb3-8616-47ae-8e10-7732661132d3</td>\n",
       "      <td>MOBILE</td>\n",
       "      <td>{'search_keywords': 'Dress Pesta'}</td>\n",
       "    </tr>\n",
       "    <tr>\n",
       "      <th>4259653</th>\n",
       "      <td>8ad788af-3fea-4775-91a1-3c97d9420846</td>\n",
       "      <td>ADD_TO_CART</td>\n",
       "      <td>2018-06-20T17:08:41.724868Z</td>\n",
       "      <td>92233386-b2ee-4ec2-a9a0-93b14f61e63a</td>\n",
       "      <td>MOBILE</td>\n",
       "      <td>{'product_id': 29559, 'quantity': 1, 'item_pri...</td>\n",
       "    </tr>\n",
       "  </tbody>\n",
       "</table>\n",
       "</div>"
      ],
      "text/plain": [
       "                                    session_id   event_name  \\\n",
       "3000496   7835aed5-63db-4b80-bdf3-64026c8bb558       SEARCH   \n",
       "10363029  1505c345-023f-47de-8c39-5b84bc45f119        CLICK   \n",
       "10306011  732f697f-1f1a-4b3e-8f04-1e55b0be8311  ADD_TO_CART   \n",
       "10796930  d57aae0b-839c-4f56-9674-ba94d750b6b4     HOMEPAGE   \n",
       "3997765   75650777-b7ec-4596-93ab-37ae18f8be15  ITEM_DETAIL   \n",
       "6024011   259eba80-04d5-4052-80de-d752a848d1f3       SEARCH   \n",
       "7901771   acf076e2-1341-4872-8f53-9106fe86cdd9   PROMO_PAGE   \n",
       "2724431   0f5b6ee6-a33a-4e5d-9e09-df6e52c7252e    ADD_PROMO   \n",
       "2666796   5e8e1238-e8a9-4a88-8c27-fee16857aa48       SEARCH   \n",
       "4259653   8ad788af-3fea-4775-91a1-3c97d9420846  ADD_TO_CART   \n",
       "\n",
       "                           event_time                              event_id  \\\n",
       "3000496   2019-01-27T20:29:18.635006Z  af6e4792-77a2-4f15-abb4-f36ea7f81b83   \n",
       "10363029  2021-09-22T15:07:23.729600Z  c0ccc7ec-2f02-40c0-b8b0-4742a62949d2   \n",
       "10306011  2021-12-18T19:11:25.970149Z  f63ce54c-1f2b-49e0-8317-51992b0510a5   \n",
       "10796930  2017-07-06T08:25:30.280649Z  89572990-150c-4c53-b5de-bb0990288ea1   \n",
       "3997765   2019-10-19T01:17:30.579662Z  00ad8c2f-50ca-4dfc-ad9d-c010c488c0d9   \n",
       "6024011   2020-01-31T12:22:59.287053Z  407c005a-1ecb-4456-96c4-91fc446e7c0b   \n",
       "7901771   2020-01-29T20:25:00.387781Z  614b4613-74b1-4927-b389-abee2aba116d   \n",
       "2724431   2022-01-13T08:55:52.452764Z  48b7fdfd-8f8f-4882-a8f2-7462e6f43204   \n",
       "2666796   2020-03-08T04:18:14.006562Z  62e3feb3-8616-47ae-8e10-7732661132d3   \n",
       "4259653   2018-06-20T17:08:41.724868Z  92233386-b2ee-4ec2-a9a0-93b14f61e63a   \n",
       "\n",
       "         traffic_source                                     event_metadata  \n",
       "3000496          MOBILE                 {'search_keywords': 'Dress Pesta'}  \n",
       "10363029         MOBILE                                                NaN  \n",
       "10306011         MOBILE  {'product_id': 22101, 'quantity': 1, 'item_pri...  \n",
       "10796930         MOBILE                                                NaN  \n",
       "3997765          MOBILE                                                NaN  \n",
       "6024011             WEB             {'search_keywords': 'Dress Kondangan'}  \n",
       "7901771          MOBILE                                                NaN  \n",
       "2724431          MOBILE    {'promo_code': 'BUYMORE', 'promo_amount': 6276}  \n",
       "2666796          MOBILE                 {'search_keywords': 'Dress Pesta'}  \n",
       "4259653          MOBILE  {'product_id': 29559, 'quantity': 1, 'item_pri...  "
      ]
     },
     "execution_count": 22,
     "metadata": {},
     "output_type": "execute_result"
    }
   ],
   "source": [
    "df.sample(10)"
   ]
  },
  {
   "cell_type": "code",
   "execution_count": 24,
   "id": "31321d4f",
   "metadata": {},
   "outputs": [
    {
     "data": {
      "text/plain": [
       "session_id              0\n",
       "event_name              0\n",
       "event_time              0\n",
       "event_id                0\n",
       "traffic_source          0\n",
       "event_metadata    8544062\n",
       "dtype: int64"
      ]
     },
     "execution_count": 24,
     "metadata": {},
     "output_type": "execute_result"
    }
   ],
   "source": [
    "df.isna().sum()"
   ]
  },
  {
   "cell_type": "code",
   "execution_count": 25,
   "id": "7acc48da",
   "metadata": {},
   "outputs": [],
   "source": [
    "#mengubah tipe data yang tidak sesuai\n",
    "df['event_time'] = pd.to_datetime(df['event_time'])"
   ]
  },
  {
   "cell_type": "code",
   "execution_count": 27,
   "id": "81a92e3c",
   "metadata": {
    "scrolled": true
   },
   "outputs": [
    {
     "name": "stdout",
     "output_type": "stream",
     "text": [
      "<class 'pandas.core.frame.DataFrame'>\n",
      "RangeIndex: 12833602 entries, 0 to 12833601\n",
      "Data columns (total 6 columns):\n",
      " #   Column          Dtype              \n",
      "---  ------          -----              \n",
      " 0   session_id      object             \n",
      " 1   event_name      object             \n",
      " 2   event_time      datetime64[ns, UTC]\n",
      " 3   event_id        object             \n",
      " 4   traffic_source  object             \n",
      " 5   event_metadata  object             \n",
      "dtypes: datetime64[ns, UTC](1), object(5)\n",
      "memory usage: 587.5+ MB\n"
     ]
    }
   ],
   "source": [
    "df.info()"
   ]
  },
  {
   "cell_type": "code",
   "execution_count": 36,
   "id": "fb2eaa00",
   "metadata": {},
   "outputs": [
    {
     "data": {
      "text/plain": [
       "count                               12833602\n",
       "mean     2020-10-17 06:11:58.513397504+00:00\n",
       "min         2016-06-30 22:59:36.254358+00:00\n",
       "25%      2019-11-18 01:19:53.345473536+00:00\n",
       "50%      2021-02-15 16:41:10.214701568+00:00\n",
       "75%      2021-12-14 17:11:39.159275520+00:00\n",
       "max         2022-08-01 00:49:59.408424+00:00\n",
       "Name: event_time, dtype: object"
      ]
     },
     "execution_count": 36,
     "metadata": {},
     "output_type": "execute_result"
    }
   ],
   "source": [
    "#menampilkan waktu pengaksesan yang dilakukan customer \n",
    "#zona waktu ini +00 bukan zona waktu indonesia, apakah diconvert atau bagaimana?\n",
    "df['event_time'].describe(datetime_is_numeric=True)"
   ]
  },
  {
   "cell_type": "code",
   "execution_count": 41,
   "id": "e2b96dc3",
   "metadata": {},
   "outputs": [
    {
     "name": "stdout",
     "output_type": "stream",
     "text": [
      "2016-06-30 22:59:36.254358\n",
      "2022-08-01 00:49:59.408424\n"
     ]
    }
   ],
   "source": [
    "#menampilkan waktu minimum dan maksimum pengaksesan oleh customer\n",
    "print(df.event_time.min())\n",
    "print(df.event_time.max())"
   ]
  },
  {
   "cell_type": "code",
   "execution_count": 42,
   "id": "87adb7a3",
   "metadata": {},
   "outputs": [
    {
     "data": {
      "text/plain": [
       "12803759   2022-08-01 00:49:59.408424\n",
       "12803758   2022-08-01 00:39:39.408424\n",
       "10061205   2022-08-01 00:31:53.957678\n",
       "12803757   2022-08-01 00:29:20.408424\n",
       "4959631    2022-08-01 00:24:28.200546\n",
       "11980458   2022-08-01 00:23:04.821469\n",
       "10838163   2022-08-01 00:19:03.292816\n",
       "12803756   2022-08-01 00:18:46.408424\n",
       "12729427   2022-08-01 00:18:12.385394\n",
       "12400678   2022-08-01 00:14:36.582104\n",
       "10838162   2022-08-01 00:13:06.292816\n",
       "11463233   2022-08-01 00:12:17.334112\n",
       "12400677   2022-08-01 00:11:45.582104\n",
       "8245485    2022-08-01 00:11:05.983028\n",
       "12803755   2022-08-01 00:09:23.408424\n",
       "12400676   2022-08-01 00:08:59.582104\n",
       "3908489    2022-08-01 00:08:19.147050\n",
       "10838161   2022-08-01 00:07:44.292816\n",
       "12400675   2022-08-01 00:05:55.582104\n",
       "3908488    2022-08-01 00:04:47.147050\n",
       "Name: event_time, dtype: datetime64[ns]"
      ]
     },
     "execution_count": 42,
     "metadata": {},
     "output_type": "execute_result"
    }
   ],
   "source": [
    "df.event_time.sort_values(ascending=False).head(20)"
   ]
  },
  {
   "cell_type": "code",
   "execution_count": 43,
   "id": "87a5f406",
   "metadata": {},
   "outputs": [
    {
     "data": {
      "text/plain": [
       "12371556   2016-06-30 22:59:36.254358\n",
       "12371559   2016-06-30 23:01:06.254358\n",
       "12371557   2016-06-30 23:01:14.254358\n",
       "12371560   2016-06-30 23:02:35.254358\n",
       "12371561   2016-06-30 23:03:56.254358\n",
       "12371562   2016-06-30 23:05:40.254358\n",
       "12371563   2016-06-30 23:06:55.254358\n",
       "12371564   2016-06-30 23:08:24.254358\n",
       "12371565   2016-06-30 23:10:00.254358\n",
       "12371566   2016-06-30 23:11:11.254358\n",
       "12371567   2016-06-30 23:12:46.254358\n",
       "12371568   2016-06-30 23:14:11.254358\n",
       "12371569   2016-06-30 23:15:28.254358\n",
       "12371558   2016-06-30 23:18:44.792905\n",
       "5004534    2016-07-01 02:12:39.860873\n",
       "5004535    2016-07-01 02:19:09.860873\n",
       "5004539    2016-07-01 02:19:26.860873\n",
       "5004536    2016-07-01 02:26:03.860873\n",
       "5004540    2016-07-01 02:26:04.860873\n",
       "5004537    2016-07-01 02:33:18.860873\n",
       "Name: event_time, dtype: datetime64[ns]"
      ]
     },
     "execution_count": 43,
     "metadata": {},
     "output_type": "execute_result"
    }
   ],
   "source": [
    "df.event_time.sort_values(ascending=True).head(20)"
   ]
  },
  {
   "cell_type": "code",
   "execution_count": 54,
   "id": "b781ded2",
   "metadata": {},
   "outputs": [
    {
     "data": {
      "text/plain": [
       "array(['HOMEPAGE', 'SCROLL', 'ADD_TO_CART', 'BOOKING', 'SEARCH',\n",
       "       'ITEM_DETAIL', 'ADD_PROMO', 'CLICK', 'PROMO_PAGE'], dtype=object)"
      ]
     },
     "execution_count": 54,
     "metadata": {},
     "output_type": "execute_result"
    }
   ],
   "source": [
    "# mengecek apakah ada outlier didalam event_name\n",
    "df.event_name.unique()"
   ]
  },
  {
   "cell_type": "code",
   "execution_count": 63,
   "id": "6c8f59fd",
   "metadata": {
    "scrolled": false
   },
   "outputs": [
    {
     "data": {
      "text/html": [
       "<div>\n",
       "<style scoped>\n",
       "    .dataframe tbody tr th:only-of-type {\n",
       "        vertical-align: middle;\n",
       "    }\n",
       "\n",
       "    .dataframe tbody tr th {\n",
       "        vertical-align: top;\n",
       "    }\n",
       "\n",
       "    .dataframe thead th {\n",
       "        text-align: right;\n",
       "    }\n",
       "</style>\n",
       "<table border=\"1\" class=\"dataframe\">\n",
       "  <thead>\n",
       "    <tr style=\"text-align: right;\">\n",
       "      <th></th>\n",
       "      <th>session_id</th>\n",
       "      <th>event_name</th>\n",
       "      <th>event_time</th>\n",
       "      <th>event_id</th>\n",
       "      <th>traffic_source</th>\n",
       "      <th>event_metadata</th>\n",
       "    </tr>\n",
       "  </thead>\n",
       "  <tbody>\n",
       "    <tr>\n",
       "      <th>20</th>\n",
       "      <td>f7b5cd60-4f87-4b3c-8bde-c7da8930eec2</td>\n",
       "      <td>ADD_PROMO</td>\n",
       "      <td>2019-09-09 07:22:05.425431</td>\n",
       "      <td>28329764-aa29-4e7a-9d8e-eee88d00a640</td>\n",
       "      <td>MOBILE</td>\n",
       "      <td>{'promo_code': 'AZ2022', 'promo_amount': 7047}</td>\n",
       "    </tr>\n",
       "    <tr>\n",
       "      <th>46</th>\n",
       "      <td>d9aaa8a8-5e60-4e1e-ab0a-bb9755a7a3e9</td>\n",
       "      <td>ADD_PROMO</td>\n",
       "      <td>2019-09-24 16:16:10.425431</td>\n",
       "      <td>7a808081-2384-4a3a-ad00-9f10df4f07a7</td>\n",
       "      <td>WEB</td>\n",
       "      <td>{'promo_code': 'BUYMORE', 'promo_amount': 4903}</td>\n",
       "    </tr>\n",
       "    <tr>\n",
       "      <th>53</th>\n",
       "      <td>98e66f53-f24f-4238-8c9c-34a0482e22d5</td>\n",
       "      <td>ADD_PROMO</td>\n",
       "      <td>2019-10-02 15:14:18.425431</td>\n",
       "      <td>1d293181-b1cf-46e0-b5eb-682fe652131d</td>\n",
       "      <td>MOBILE</td>\n",
       "      <td>{'promo_code': 'AZ2022', 'promo_amount': 6307}</td>\n",
       "    </tr>\n",
       "    <tr>\n",
       "      <th>74</th>\n",
       "      <td>1553b735-081d-4dc5-8d5f-80c1bf442e0f</td>\n",
       "      <td>ADD_PROMO</td>\n",
       "      <td>2019-10-16 20:20:14.425431</td>\n",
       "      <td>c86b2a91-0a21-404a-98e9-947d3060fdc2</td>\n",
       "      <td>MOBILE</td>\n",
       "      <td>{'promo_code': 'WEEKENDSERU', 'promo_amount': ...</td>\n",
       "    </tr>\n",
       "    <tr>\n",
       "      <th>169</th>\n",
       "      <td>a1027501-f085-479f-a719-1aeec041408c</td>\n",
       "      <td>ADD_PROMO</td>\n",
       "      <td>2019-11-20 03:28:12.425431</td>\n",
       "      <td>cef2a298-e38b-4460-bc89-71f7a3039ff7</td>\n",
       "      <td>MOBILE</td>\n",
       "      <td>{'promo_code': 'XX2022', 'promo_amount': 2569}</td>\n",
       "    </tr>\n",
       "    <tr>\n",
       "      <th>...</th>\n",
       "      <td>...</td>\n",
       "      <td>...</td>\n",
       "      <td>...</td>\n",
       "      <td>...</td>\n",
       "      <td>...</td>\n",
       "      <td>...</td>\n",
       "    </tr>\n",
       "    <tr>\n",
       "      <th>12832905</th>\n",
       "      <td>cebfe9cd-0754-4151-9ba7-2372164686b7</td>\n",
       "      <td>ADD_PROMO</td>\n",
       "      <td>2020-04-05 10:24:17.116768</td>\n",
       "      <td>a5ecd91b-ed11-4c8b-adf7-bab2720bc3c6</td>\n",
       "      <td>MOBILE</td>\n",
       "      <td>{'promo_code': 'WEEKENDMANTAP', 'promo_amount'...</td>\n",
       "    </tr>\n",
       "    <tr>\n",
       "      <th>12832915</th>\n",
       "      <td>5e7c20e3-e1f0-42ae-9016-b3227169dea9</td>\n",
       "      <td>ADD_PROMO</td>\n",
       "      <td>2018-06-03 08:00:35.938975</td>\n",
       "      <td>487307cd-222a-4131-bc6a-69effe9f6560</td>\n",
       "      <td>MOBILE</td>\n",
       "      <td>{'promo_code': 'WEEKENDSERU', 'promo_amount': ...</td>\n",
       "    </tr>\n",
       "    <tr>\n",
       "      <th>12832967</th>\n",
       "      <td>eef8cec1-9dc6-4756-a4bc-0832da4b6e69</td>\n",
       "      <td>ADD_PROMO</td>\n",
       "      <td>2021-07-25 08:23:48.795552</td>\n",
       "      <td>7fd98dbb-ed1a-4a5e-998f-d09566a67de0</td>\n",
       "      <td>MOBILE</td>\n",
       "      <td>{'promo_code': 'LIBURDONG', 'promo_amount': 3204}</td>\n",
       "    </tr>\n",
       "    <tr>\n",
       "      <th>12833104</th>\n",
       "      <td>137b5f97-a8d0-4898-ac99-12cbbfc52362</td>\n",
       "      <td>ADD_PROMO</td>\n",
       "      <td>2021-11-18 17:57:33.345950</td>\n",
       "      <td>9abcf7c9-41e3-497e-974f-174a27161d2b</td>\n",
       "      <td>MOBILE</td>\n",
       "      <td>{'promo_code': 'AZ2022', 'promo_amount': 5284}</td>\n",
       "    </tr>\n",
       "    <tr>\n",
       "      <th>12833120</th>\n",
       "      <td>1c2d6c6a-e1b8-4126-9f5d-082738e87b21</td>\n",
       "      <td>ADD_PROMO</td>\n",
       "      <td>2021-09-17 14:34:55.708206</td>\n",
       "      <td>4dc8868d-509a-4c02-b86d-95331c7e4be7</td>\n",
       "      <td>MOBILE</td>\n",
       "      <td>{'promo_code': 'XX2022', 'promo_amount': 5413}</td>\n",
       "    </tr>\n",
       "  </tbody>\n",
       "</table>\n",
       "<p>326535 rows × 6 columns</p>\n",
       "</div>"
      ],
      "text/plain": [
       "                                    session_id event_name  \\\n",
       "20        f7b5cd60-4f87-4b3c-8bde-c7da8930eec2  ADD_PROMO   \n",
       "46        d9aaa8a8-5e60-4e1e-ab0a-bb9755a7a3e9  ADD_PROMO   \n",
       "53        98e66f53-f24f-4238-8c9c-34a0482e22d5  ADD_PROMO   \n",
       "74        1553b735-081d-4dc5-8d5f-80c1bf442e0f  ADD_PROMO   \n",
       "169       a1027501-f085-479f-a719-1aeec041408c  ADD_PROMO   \n",
       "...                                        ...        ...   \n",
       "12832905  cebfe9cd-0754-4151-9ba7-2372164686b7  ADD_PROMO   \n",
       "12832915  5e7c20e3-e1f0-42ae-9016-b3227169dea9  ADD_PROMO   \n",
       "12832967  eef8cec1-9dc6-4756-a4bc-0832da4b6e69  ADD_PROMO   \n",
       "12833104  137b5f97-a8d0-4898-ac99-12cbbfc52362  ADD_PROMO   \n",
       "12833120  1c2d6c6a-e1b8-4126-9f5d-082738e87b21  ADD_PROMO   \n",
       "\n",
       "                         event_time                              event_id  \\\n",
       "20       2019-09-09 07:22:05.425431  28329764-aa29-4e7a-9d8e-eee88d00a640   \n",
       "46       2019-09-24 16:16:10.425431  7a808081-2384-4a3a-ad00-9f10df4f07a7   \n",
       "53       2019-10-02 15:14:18.425431  1d293181-b1cf-46e0-b5eb-682fe652131d   \n",
       "74       2019-10-16 20:20:14.425431  c86b2a91-0a21-404a-98e9-947d3060fdc2   \n",
       "169      2019-11-20 03:28:12.425431  cef2a298-e38b-4460-bc89-71f7a3039ff7   \n",
       "...                             ...                                   ...   \n",
       "12832905 2020-04-05 10:24:17.116768  a5ecd91b-ed11-4c8b-adf7-bab2720bc3c6   \n",
       "12832915 2018-06-03 08:00:35.938975  487307cd-222a-4131-bc6a-69effe9f6560   \n",
       "12832967 2021-07-25 08:23:48.795552  7fd98dbb-ed1a-4a5e-998f-d09566a67de0   \n",
       "12833104 2021-11-18 17:57:33.345950  9abcf7c9-41e3-497e-974f-174a27161d2b   \n",
       "12833120 2021-09-17 14:34:55.708206  4dc8868d-509a-4c02-b86d-95331c7e4be7   \n",
       "\n",
       "         traffic_source                                     event_metadata  \n",
       "20               MOBILE     {'promo_code': 'AZ2022', 'promo_amount': 7047}  \n",
       "46                  WEB    {'promo_code': 'BUYMORE', 'promo_amount': 4903}  \n",
       "53               MOBILE     {'promo_code': 'AZ2022', 'promo_amount': 6307}  \n",
       "74               MOBILE  {'promo_code': 'WEEKENDSERU', 'promo_amount': ...  \n",
       "169              MOBILE     {'promo_code': 'XX2022', 'promo_amount': 2569}  \n",
       "...                 ...                                                ...  \n",
       "12832905         MOBILE  {'promo_code': 'WEEKENDMANTAP', 'promo_amount'...  \n",
       "12832915         MOBILE  {'promo_code': 'WEEKENDSERU', 'promo_amount': ...  \n",
       "12832967         MOBILE  {'promo_code': 'LIBURDONG', 'promo_amount': 3204}  \n",
       "12833104         MOBILE     {'promo_code': 'AZ2022', 'promo_amount': 5284}  \n",
       "12833120         MOBILE     {'promo_code': 'XX2022', 'promo_amount': 5413}  \n",
       "\n",
       "[326535 rows x 6 columns]"
      ]
     },
     "execution_count": 63,
     "metadata": {},
     "output_type": "execute_result"
    }
   ],
   "source": [
    "#mengecek promo yang digunakan oleh customer\n",
    "Promo = df.loc[df['event_name']=='ADD_PROMO']\n"
   ]
  },
  {
   "cell_type": "code",
   "execution_count": 79,
   "id": "4c834a8b",
   "metadata": {},
   "outputs": [
    {
     "data": {
      "text/plain": [
       "count                           4289540\n",
       "unique                          2006748\n",
       "top       {'payment_status': 'Success'}\n",
       "freq                             815962\n",
       "Name: event_metadata, dtype: object"
      ]
     },
     "execution_count": 79,
     "metadata": {},
     "output_type": "execute_result"
    }
   ],
   "source": [
    "df['event_metadata'].describe()"
   ]
  },
  {
   "cell_type": "code",
   "execution_count": 94,
   "id": "8e830305",
   "metadata": {
    "scrolled": true
   },
   "outputs": [
    {
     "data": {
      "text/html": [
       "<div>\n",
       "<style scoped>\n",
       "    .dataframe tbody tr th:only-of-type {\n",
       "        vertical-align: middle;\n",
       "    }\n",
       "\n",
       "    .dataframe tbody tr th {\n",
       "        vertical-align: top;\n",
       "    }\n",
       "\n",
       "    .dataframe thead th {\n",
       "        text-align: right;\n",
       "    }\n",
       "</style>\n",
       "<table border=\"1\" class=\"dataframe\">\n",
       "  <thead>\n",
       "    <tr style=\"text-align: right;\">\n",
       "      <th></th>\n",
       "      <th>session_id</th>\n",
       "      <th>event_name</th>\n",
       "      <th>event_time</th>\n",
       "      <th>event_id</th>\n",
       "      <th>traffic_source</th>\n",
       "      <th>event_metadata</th>\n",
       "    </tr>\n",
       "  </thead>\n",
       "  <tbody>\n",
       "    <tr>\n",
       "      <th>5</th>\n",
       "      <td>7d440441-e67a-4d36-b324-80ffd636d166</td>\n",
       "      <td>SEARCH</td>\n",
       "      <td>2019-09-01 12:07:00.322763</td>\n",
       "      <td>c952142b-4fe9-4694-ad7f-21a5d1bed9ca</td>\n",
       "      <td>MOBILE</td>\n",
       "      <td>{'search_keywords': 'Dress Kondangan'}</td>\n",
       "    </tr>\n",
       "    <tr>\n",
       "      <th>22</th>\n",
       "      <td>f7b5cd60-4f87-4b3c-8bde-c7da8930eec2</td>\n",
       "      <td>SEARCH</td>\n",
       "      <td>2019-09-09 05:06:26.425431</td>\n",
       "      <td>65ad97d0-9207-447e-b09d-fcc00a569824</td>\n",
       "      <td>MOBILE</td>\n",
       "      <td>{'search_keywords': 'Tas Wanita'}</td>\n",
       "    </tr>\n",
       "    <tr>\n",
       "      <th>35</th>\n",
       "      <td>f7b5cd60-4f87-4b3c-8bde-c7da8930eec2</td>\n",
       "      <td>SEARCH</td>\n",
       "      <td>2019-09-09 08:50:27.425431</td>\n",
       "      <td>a2e93548-18b5-4a79-b74f-42bbc0cf0fbd</td>\n",
       "      <td>MOBILE</td>\n",
       "      <td>{'search_keywords': 'Celana Panjang'}</td>\n",
       "    </tr>\n",
       "    <tr>\n",
       "      <th>57</th>\n",
       "      <td>98e66f53-f24f-4238-8c9c-34a0482e22d5</td>\n",
       "      <td>SEARCH</td>\n",
       "      <td>2019-10-02 17:17:08.425431</td>\n",
       "      <td>bf6963cd-b681-4763-b796-ce18d3b9004f</td>\n",
       "      <td>MOBILE</td>\n",
       "      <td>{'search_keywords': 'Kaos'}</td>\n",
       "    </tr>\n",
       "    <tr>\n",
       "      <th>59</th>\n",
       "      <td>98e66f53-f24f-4238-8c9c-34a0482e22d5</td>\n",
       "      <td>SEARCH</td>\n",
       "      <td>2019-10-02 21:07:33.425431</td>\n",
       "      <td>cf5d38ae-7f44-4166-9cf9-c43fb57b8f3a</td>\n",
       "      <td>MOBILE</td>\n",
       "      <td>{'search_keywords': 'Sepatu'}</td>\n",
       "    </tr>\n",
       "    <tr>\n",
       "      <th>...</th>\n",
       "      <td>...</td>\n",
       "      <td>...</td>\n",
       "      <td>...</td>\n",
       "      <td>...</td>\n",
       "      <td>...</td>\n",
       "      <td>...</td>\n",
       "    </tr>\n",
       "    <tr>\n",
       "      <th>12833585</th>\n",
       "      <td>f38416ce-51f2-46b0-a476-776d8fed1cb0</td>\n",
       "      <td>SEARCH</td>\n",
       "      <td>2021-08-01 08:03:07.737783</td>\n",
       "      <td>4e527503-27e3-4cbc-8964-23896c34fa96</td>\n",
       "      <td>WEB</td>\n",
       "      <td>{'search_keywords': 'Sepatu Adidas'}</td>\n",
       "    </tr>\n",
       "    <tr>\n",
       "      <th>12833589</th>\n",
       "      <td>c1ce86f6-858b-4009-af5b-f1483a28d020</td>\n",
       "      <td>SEARCH</td>\n",
       "      <td>2020-09-22 22:44:59.674560</td>\n",
       "      <td>cbc4e8e5-aa48-40c6-8e69-07382e1d35bc</td>\n",
       "      <td>WEB</td>\n",
       "      <td>{'search_keywords': 'Barang Bekas'}</td>\n",
       "    </tr>\n",
       "    <tr>\n",
       "      <th>12833593</th>\n",
       "      <td>f5c4bbe0-f977-45bb-af23-6ab524df7777</td>\n",
       "      <td>SEARCH</td>\n",
       "      <td>2022-04-09 21:01:31.132472</td>\n",
       "      <td>086302b8-62ba-4ce6-8cdc-9924c92176fc</td>\n",
       "      <td>MOBILE</td>\n",
       "      <td>{'search_keywords': 'Baju'}</td>\n",
       "    </tr>\n",
       "    <tr>\n",
       "      <th>12833597</th>\n",
       "      <td>ad1063b0-a6e5-40a9-aed6-d1b45741e571</td>\n",
       "      <td>SEARCH</td>\n",
       "      <td>2021-06-07 04:37:53.354381</td>\n",
       "      <td>4b3b91a5-9bda-44de-87dc-153367071dfc</td>\n",
       "      <td>MOBILE</td>\n",
       "      <td>{'search_keywords': 'Bekas'}</td>\n",
       "    </tr>\n",
       "    <tr>\n",
       "      <th>12833601</th>\n",
       "      <td>64585e37-3fe7-48d7-b79b-ebcb70230eb2</td>\n",
       "      <td>SEARCH</td>\n",
       "      <td>2021-05-05 11:53:12.985835</td>\n",
       "      <td>3c60d8bc-b3e1-41fa-a87b-f65a9053856a</td>\n",
       "      <td>MOBILE</td>\n",
       "      <td>{'search_keywords': 'Baju'}</td>\n",
       "    </tr>\n",
       "  </tbody>\n",
       "</table>\n",
       "<p>1173266 rows × 6 columns</p>\n",
       "</div>"
      ],
      "text/plain": [
       "                                    session_id event_name  \\\n",
       "5         7d440441-e67a-4d36-b324-80ffd636d166     SEARCH   \n",
       "22        f7b5cd60-4f87-4b3c-8bde-c7da8930eec2     SEARCH   \n",
       "35        f7b5cd60-4f87-4b3c-8bde-c7da8930eec2     SEARCH   \n",
       "57        98e66f53-f24f-4238-8c9c-34a0482e22d5     SEARCH   \n",
       "59        98e66f53-f24f-4238-8c9c-34a0482e22d5     SEARCH   \n",
       "...                                        ...        ...   \n",
       "12833585  f38416ce-51f2-46b0-a476-776d8fed1cb0     SEARCH   \n",
       "12833589  c1ce86f6-858b-4009-af5b-f1483a28d020     SEARCH   \n",
       "12833593  f5c4bbe0-f977-45bb-af23-6ab524df7777     SEARCH   \n",
       "12833597  ad1063b0-a6e5-40a9-aed6-d1b45741e571     SEARCH   \n",
       "12833601  64585e37-3fe7-48d7-b79b-ebcb70230eb2     SEARCH   \n",
       "\n",
       "                         event_time                              event_id  \\\n",
       "5        2019-09-01 12:07:00.322763  c952142b-4fe9-4694-ad7f-21a5d1bed9ca   \n",
       "22       2019-09-09 05:06:26.425431  65ad97d0-9207-447e-b09d-fcc00a569824   \n",
       "35       2019-09-09 08:50:27.425431  a2e93548-18b5-4a79-b74f-42bbc0cf0fbd   \n",
       "57       2019-10-02 17:17:08.425431  bf6963cd-b681-4763-b796-ce18d3b9004f   \n",
       "59       2019-10-02 21:07:33.425431  cf5d38ae-7f44-4166-9cf9-c43fb57b8f3a   \n",
       "...                             ...                                   ...   \n",
       "12833585 2021-08-01 08:03:07.737783  4e527503-27e3-4cbc-8964-23896c34fa96   \n",
       "12833589 2020-09-22 22:44:59.674560  cbc4e8e5-aa48-40c6-8e69-07382e1d35bc   \n",
       "12833593 2022-04-09 21:01:31.132472  086302b8-62ba-4ce6-8cdc-9924c92176fc   \n",
       "12833597 2021-06-07 04:37:53.354381  4b3b91a5-9bda-44de-87dc-153367071dfc   \n",
       "12833601 2021-05-05 11:53:12.985835  3c60d8bc-b3e1-41fa-a87b-f65a9053856a   \n",
       "\n",
       "         traffic_source                          event_metadata  \n",
       "5                MOBILE  {'search_keywords': 'Dress Kondangan'}  \n",
       "22               MOBILE       {'search_keywords': 'Tas Wanita'}  \n",
       "35               MOBILE   {'search_keywords': 'Celana Panjang'}  \n",
       "57               MOBILE             {'search_keywords': 'Kaos'}  \n",
       "59               MOBILE           {'search_keywords': 'Sepatu'}  \n",
       "...                 ...                                     ...  \n",
       "12833585            WEB    {'search_keywords': 'Sepatu Adidas'}  \n",
       "12833589            WEB     {'search_keywords': 'Barang Bekas'}  \n",
       "12833593         MOBILE             {'search_keywords': 'Baju'}  \n",
       "12833597         MOBILE            {'search_keywords': 'Bekas'}  \n",
       "12833601         MOBILE             {'search_keywords': 'Baju'}  \n",
       "\n",
       "[1173266 rows x 6 columns]"
      ]
     },
     "execution_count": 94,
     "metadata": {},
     "output_type": "execute_result"
    }
   ],
   "source": [
    "#mengecek pencarian yang dilakukan oleh customer\n",
    "search = df.loc[df['event_name']=='SEARCH']\n",
    "search"
   ]
  },
  {
   "cell_type": "code",
   "execution_count": 80,
   "id": "6523ab6f",
   "metadata": {},
   "outputs": [
    {
     "data": {
      "text/plain": [
       "count     12833602\n",
       "unique           9\n",
       "top          CLICK\n",
       "freq       2498038\n",
       "Name: event_name, dtype: object"
      ]
     },
     "execution_count": 80,
     "metadata": {},
     "output_type": "execute_result"
    }
   ],
   "source": [
    "df['event_name'].describe()"
   ]
  },
  {
   "cell_type": "code",
   "execution_count": 83,
   "id": "c58a0691",
   "metadata": {},
   "outputs": [
    {
     "data": {
      "text/plain": [
       "array(['MOBILE', 'WEB'], dtype=object)"
      ]
     },
     "execution_count": 83,
     "metadata": {},
     "output_type": "execute_result"
    }
   ],
   "source": [
    "#menampilkan jenis perangkat pengaksesan yang digunakan oleh customer\n",
    "df.traffic_source.unique()"
   ]
  },
  {
   "cell_type": "markdown",
   "id": "9856f513",
   "metadata": {},
   "source": [
    "# Noted"
   ]
  },
  {
   "cell_type": "markdown",
   "id": "f7495b96",
   "metadata": {},
   "source": [
    "1. Terdapat zona waktu +00 bukan wilayah Indonesia apakah perlu di convert?\n",
    "2. Customer mengakses menggunakan mobile dan web\n",
    "3. waktu pengaksesan customer dimulai pada tanggal 2016-06-30 22:59:36 dan pengaksesan terakhir pada tanggal 2022-08-01 00:49:59"
   ]
  },
  {
   "cell_type": "markdown",
   "id": "97fa7e5e",
   "metadata": {},
   "source": [
    "# Exploratory Data Analysis"
   ]
  },
  {
   "cell_type": "markdown",
   "id": "3b6552f6",
   "metadata": {},
   "source": [
    "Dalam mengakses aplikasi jenis apa yang digunakan oleh customer?"
   ]
  },
  {
   "cell_type": "code",
   "execution_count": 51,
   "id": "ea0a874a",
   "metadata": {},
   "outputs": [
    {
     "data": {
      "text/html": [
       "<div>\n",
       "<style scoped>\n",
       "    .dataframe tbody tr th:only-of-type {\n",
       "        vertical-align: middle;\n",
       "    }\n",
       "\n",
       "    .dataframe tbody tr th {\n",
       "        vertical-align: top;\n",
       "    }\n",
       "\n",
       "    .dataframe thead th {\n",
       "        text-align: right;\n",
       "    }\n",
       "</style>\n",
       "<table border=\"1\" class=\"dataframe\">\n",
       "  <thead>\n",
       "    <tr style=\"text-align: right;\">\n",
       "      <th></th>\n",
       "      <th>event_id</th>\n",
       "    </tr>\n",
       "    <tr>\n",
       "      <th>traffic_source</th>\n",
       "      <th></th>\n",
       "    </tr>\n",
       "  </thead>\n",
       "  <tbody>\n",
       "    <tr>\n",
       "      <th>MOBILE</th>\n",
       "      <td>11548304</td>\n",
       "    </tr>\n",
       "    <tr>\n",
       "      <th>WEB</th>\n",
       "      <td>1285298</td>\n",
       "    </tr>\n",
       "  </tbody>\n",
       "</table>\n",
       "</div>"
      ],
      "text/plain": [
       "                event_id\n",
       "traffic_source          \n",
       "MOBILE          11548304\n",
       "WEB              1285298"
      ]
     },
     "execution_count": 51,
     "metadata": {},
     "output_type": "execute_result"
    }
   ],
   "source": [
    "traffic_src = df.groupby('traffic_source')[['event_id']].count()\n",
    "traffic_src"
   ]
  },
  {
   "cell_type": "code",
   "execution_count": 100,
   "id": "3c0a4df5",
   "metadata": {},
   "outputs": [
    {
     "data": {
      "image/png": "[encoded data removed]",
      "text/plain": [
       "<Figure size 1200x400 with 1 Axes>"
      ]
     },
     "metadata": {
      "needs_background": "light"
     },
     "output_type": "display_data"
    }
   ],
   "source": [
    "plt.figure(figsize=(12,4), dpi=100)\n",
    "sns.barplot(x=traffic_src.index, y=traffic_src.event_id)\n",
    "plt.xlabel(\"Tipe Aplikasi\")\n",
    "plt.ylabel(\"Jumlah Customers\")\n",
    "plt.title(\"Penggunaan Aplikasi Customer\");"
   ]
  },
  {
   "cell_type": "markdown",
   "id": "f7ff78a0",
   "metadata": {},
   "source": [
    "Terdapat 11.548.304 customer mengakses aplikasi menggunakan mobile, dan sebanyak 1.285.298 customer mengakses aplikasi menggunakan web"
   ]
  },
  {
   "cell_type": "code",
   "execution_count": 81,
   "id": "77289aed",
   "metadata": {},
   "outputs": [
    {
     "data": {
      "text/html": [
       "<div>\n",
       "<style scoped>\n",
       "    .dataframe tbody tr th:only-of-type {\n",
       "        vertical-align: middle;\n",
       "    }\n",
       "\n",
       "    .dataframe tbody tr th {\n",
       "        vertical-align: top;\n",
       "    }\n",
       "\n",
       "    .dataframe thead th {\n",
       "        text-align: right;\n",
       "    }\n",
       "</style>\n",
       "<table border=\"1\" class=\"dataframe\">\n",
       "  <thead>\n",
       "    <tr style=\"text-align: right;\">\n",
       "      <th></th>\n",
       "      <th>event_metadata</th>\n",
       "    </tr>\n",
       "    <tr>\n",
       "      <th>event_name</th>\n",
       "      <th></th>\n",
       "    </tr>\n",
       "  </thead>\n",
       "  <tbody>\n",
       "    <tr>\n",
       "      <th>ADD_PROMO</th>\n",
       "      <td>326535</td>\n",
       "    </tr>\n",
       "    <tr>\n",
       "      <th>ADD_TO_CART</th>\n",
       "      <td>1937157</td>\n",
       "    </tr>\n",
       "    <tr>\n",
       "      <th>BOOKING</th>\n",
       "      <td>852582</td>\n",
       "    </tr>\n",
       "    <tr>\n",
       "      <th>CLICK</th>\n",
       "      <td>0</td>\n",
       "    </tr>\n",
       "    <tr>\n",
       "      <th>HOMEPAGE</th>\n",
       "      <td>0</td>\n",
       "    </tr>\n",
       "    <tr>\n",
       "      <th>ITEM_DETAIL</th>\n",
       "      <td>0</td>\n",
       "    </tr>\n",
       "    <tr>\n",
       "      <th>PROMO_PAGE</th>\n",
       "      <td>0</td>\n",
       "    </tr>\n",
       "    <tr>\n",
       "      <th>SCROLL</th>\n",
       "      <td>0</td>\n",
       "    </tr>\n",
       "    <tr>\n",
       "      <th>SEARCH</th>\n",
       "      <td>1173266</td>\n",
       "    </tr>\n",
       "  </tbody>\n",
       "</table>\n",
       "</div>"
      ],
      "text/plain": [
       "             event_metadata\n",
       "event_name                 \n",
       "ADD_PROMO            326535\n",
       "ADD_TO_CART         1937157\n",
       "BOOKING              852582\n",
       "CLICK                     0\n",
       "HOMEPAGE                  0\n",
       "ITEM_DETAIL               0\n",
       "PROMO_PAGE                0\n",
       "SCROLL                    0\n",
       "SEARCH              1173266"
      ]
     },
     "execution_count": 81,
     "metadata": {},
     "output_type": "execute_result"
    }
   ],
   "source": [
    "#Mengecek aktivitas yang dilakukan customer saat mengakses aplikasi\n",
    "customer_click = df.groupby('event_name')[['event_metadata']].count()\n",
    "customer_click"
   ]
  },
  {
   "cell_type": "code",
   "execution_count": 91,
   "id": "3a1f23cc",
   "metadata": {},
   "outputs": [
    {
     "data": {
      "image/png": "[encoded data removed]",
      "text/plain": [
       "<Figure size 1080x360 with 1 Axes>"
      ]
     },
     "metadata": {
      "needs_background": "light"
     },
     "output_type": "display_data"
    }
   ],
   "source": [
    "customer_click.plot(kind=\"bar\", color = \"blue\", figsize=(15,5))\n",
    "plt.xlabel(\"Aktivitas yang dilakukan\")\n",
    "plt.ylabel(\"Jumlah Customers\")\n",
    "plt.title(\"Pengaksesan aplikasi oleh customer\")\n",
    "plt.show()"
   ]
  },
  {
   "cell_type": "markdown",
   "id": "dbd9cb08",
   "metadata": {},
   "source": [
    "Customer yang menggunakan promo sebanyak 326.535 customer, customer yang menambahkan produk kedalam keranjang sebanyak 1.937.157 customer, kemudian terdapat 852.582 customer, dan terdapat sebanyak 1.173.266 yang melakukan pencarian terhadap produk-produk. "
   ]
  },
  {
   "cell_type": "code",
   "execution_count": null,
   "id": "ad7357f4",
   "metadata": {},
   "outputs": [],
   "source": []
  }
 ],
 "metadata": {
  "kernelspec": {
   "display_name": "Python 3",
   "language": "python",
   "name": "python3"
  },
  "language_info": {
   "codemirror_mode": {
    "name": "ipython",
    "version": 3
   },
   "file_extension": ".py",
   "mimetype": "text/x-python",
   "name": "python",
   "nbconvert_exporter": "python",
   "pygments_lexer": "ipython3",
   "version": "3.8.8"
  }
 },
 "nbformat": 4,
 "nbformat_minor": 5
}
